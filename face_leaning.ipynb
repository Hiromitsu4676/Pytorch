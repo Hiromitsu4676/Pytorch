{
  "nbformat": 4,
  "nbformat_minor": 0,
  "metadata": {
    "accelerator": "GPU",
    "colab": {
      "name": "face_leaning.ipynb",
      "provenance": [],
      "collapsed_sections": [],
      "mount_file_id": "1SJ_WQmL4HsrcDiKaTMw1FNrlODFp4w38",
      "authorship_tag": "ABX9TyMqXgZW43egpnUTIqOWc91/",
      "include_colab_link": true
    },
    "kernelspec": {
      "display_name": "Python 3",
      "name": "python3"
    },
    "language_info": {
      "name": "python"
    }
  },
  "cells": [
    {
      "cell_type": "markdown",
      "metadata": {
        "id": "view-in-github",
        "colab_type": "text"
      },
      "source": [
        "<a href=\"https://colab.research.google.com/github/Hiromitsu4676/Pytorch/blob/main/face_leaning.ipynb\" target=\"_parent\"><img src=\"https://colab.research.google.com/assets/colab-badge.svg\" alt=\"Open In Colab\"/></a>"
      ]
    },
    {
      "cell_type": "code",
      "source": [
        "!pip install optuna"
      ],
      "metadata": {
        "colab": {
          "base_uri": "https://localhost:8080/"
        },
        "id": "SGrp8HyE4l2S",
        "outputId": "91be1046-cabd-46be-eb10-d6b01c8cbad0"
      },
      "execution_count": 1,
      "outputs": [
        {
          "output_type": "stream",
          "name": "stdout",
          "text": [
            "Collecting optuna\n",
            "  Downloading optuna-2.10.0-py3-none-any.whl (308 kB)\n",
            "\u001b[?25l\r\u001b[K     |█                               | 10 kB 19.5 MB/s eta 0:00:01\r\u001b[K     |██▏                             | 20 kB 17.4 MB/s eta 0:00:01\r\u001b[K     |███▏                            | 30 kB 10.4 MB/s eta 0:00:01\r\u001b[K     |████▎                           | 40 kB 8.9 MB/s eta 0:00:01\r\u001b[K     |█████▎                          | 51 kB 5.9 MB/s eta 0:00:01\r\u001b[K     |██████▍                         | 61 kB 6.0 MB/s eta 0:00:01\r\u001b[K     |███████▍                        | 71 kB 5.7 MB/s eta 0:00:01\r\u001b[K     |████████▌                       | 81 kB 6.5 MB/s eta 0:00:01\r\u001b[K     |█████████▋                      | 92 kB 6.3 MB/s eta 0:00:01\r\u001b[K     |██████████▋                     | 102 kB 5.4 MB/s eta 0:00:01\r\u001b[K     |███████████▊                    | 112 kB 5.4 MB/s eta 0:00:01\r\u001b[K     |████████████▊                   | 122 kB 5.4 MB/s eta 0:00:01\r\u001b[K     |█████████████▉                  | 133 kB 5.4 MB/s eta 0:00:01\r\u001b[K     |██████████████▉                 | 143 kB 5.4 MB/s eta 0:00:01\r\u001b[K     |████████████████                | 153 kB 5.4 MB/s eta 0:00:01\r\u001b[K     |█████████████████               | 163 kB 5.4 MB/s eta 0:00:01\r\u001b[K     |██████████████████              | 174 kB 5.4 MB/s eta 0:00:01\r\u001b[K     |███████████████████▏            | 184 kB 5.4 MB/s eta 0:00:01\r\u001b[K     |████████████████████▏           | 194 kB 5.4 MB/s eta 0:00:01\r\u001b[K     |█████████████████████▎          | 204 kB 5.4 MB/s eta 0:00:01\r\u001b[K     |██████████████████████▎         | 215 kB 5.4 MB/s eta 0:00:01\r\u001b[K     |███████████████████████▍        | 225 kB 5.4 MB/s eta 0:00:01\r\u001b[K     |████████████████████████▌       | 235 kB 5.4 MB/s eta 0:00:01\r\u001b[K     |█████████████████████████▌      | 245 kB 5.4 MB/s eta 0:00:01\r\u001b[K     |██████████████████████████▋     | 256 kB 5.4 MB/s eta 0:00:01\r\u001b[K     |███████████████████████████▋    | 266 kB 5.4 MB/s eta 0:00:01\r\u001b[K     |████████████████████████████▊   | 276 kB 5.4 MB/s eta 0:00:01\r\u001b[K     |█████████████████████████████▊  | 286 kB 5.4 MB/s eta 0:00:01\r\u001b[K     |██████████████████████████████▉ | 296 kB 5.4 MB/s eta 0:00:01\r\u001b[K     |████████████████████████████████| 307 kB 5.4 MB/s eta 0:00:01\r\u001b[K     |████████████████████████████████| 308 kB 5.4 MB/s \n",
            "\u001b[?25hRequirement already satisfied: scipy!=1.4.0 in /usr/local/lib/python3.7/dist-packages (from optuna) (1.4.1)\n",
            "Requirement already satisfied: packaging>=20.0 in /usr/local/lib/python3.7/dist-packages (from optuna) (21.3)\n",
            "Requirement already satisfied: tqdm in /usr/local/lib/python3.7/dist-packages (from optuna) (4.62.3)\n",
            "Requirement already satisfied: sqlalchemy>=1.1.0 in /usr/local/lib/python3.7/dist-packages (from optuna) (1.4.31)\n",
            "Requirement already satisfied: numpy in /usr/local/lib/python3.7/dist-packages (from optuna) (1.19.5)\n",
            "Collecting colorlog\n",
            "  Downloading colorlog-6.6.0-py2.py3-none-any.whl (11 kB)\n",
            "Collecting cmaes>=0.8.2\n",
            "  Downloading cmaes-0.8.2-py3-none-any.whl (15 kB)\n",
            "Collecting cliff\n",
            "  Downloading cliff-3.10.0-py3-none-any.whl (80 kB)\n",
            "\u001b[K     |████████████████████████████████| 80 kB 5.6 MB/s \n",
            "\u001b[?25hRequirement already satisfied: PyYAML in /usr/local/lib/python3.7/dist-packages (from optuna) (3.13)\n",
            "Collecting alembic\n",
            "  Downloading alembic-1.7.6-py3-none-any.whl (210 kB)\n",
            "\u001b[K     |████████████████████████████████| 210 kB 31.6 MB/s \n",
            "\u001b[?25hRequirement already satisfied: pyparsing!=3.0.5,>=2.0.2 in /usr/local/lib/python3.7/dist-packages (from packaging>=20.0->optuna) (3.0.7)\n",
            "Requirement already satisfied: greenlet!=0.4.17 in /usr/local/lib/python3.7/dist-packages (from sqlalchemy>=1.1.0->optuna) (1.1.2)\n",
            "Requirement already satisfied: importlib-metadata in /usr/local/lib/python3.7/dist-packages (from sqlalchemy>=1.1.0->optuna) (4.10.1)\n",
            "Collecting Mako\n",
            "  Downloading Mako-1.1.6-py2.py3-none-any.whl (75 kB)\n",
            "\u001b[K     |████████████████████████████████| 75 kB 2.0 MB/s \n",
            "\u001b[?25hRequirement already satisfied: importlib-resources in /usr/local/lib/python3.7/dist-packages (from alembic->optuna) (5.4.0)\n",
            "Collecting autopage>=0.4.0\n",
            "  Downloading autopage-0.5.0-py3-none-any.whl (29 kB)\n",
            "Collecting cmd2>=1.0.0\n",
            "  Downloading cmd2-2.3.3-py3-none-any.whl (149 kB)\n",
            "\u001b[K     |████████████████████████████████| 149 kB 39.4 MB/s \n",
            "\u001b[?25hCollecting pbr!=2.1.0,>=2.0.0\n",
            "  Downloading pbr-5.8.1-py2.py3-none-any.whl (113 kB)\n",
            "\u001b[K     |████████████████████████████████| 113 kB 29.9 MB/s \n",
            "\u001b[?25hCollecting stevedore>=2.0.1\n",
            "  Downloading stevedore-3.5.0-py3-none-any.whl (49 kB)\n",
            "\u001b[K     |████████████████████████████████| 49 kB 2.2 MB/s \n",
            "\u001b[?25hRequirement already satisfied: PrettyTable>=0.7.2 in /usr/local/lib/python3.7/dist-packages (from cliff->optuna) (3.0.0)\n",
            "Requirement already satisfied: wcwidth>=0.1.7 in /usr/local/lib/python3.7/dist-packages (from cmd2>=1.0.0->cliff->optuna) (0.2.5)\n",
            "Requirement already satisfied: typing-extensions in /usr/local/lib/python3.7/dist-packages (from cmd2>=1.0.0->cliff->optuna) (3.10.0.2)\n",
            "Requirement already satisfied: attrs>=16.3.0 in /usr/local/lib/python3.7/dist-packages (from cmd2>=1.0.0->cliff->optuna) (21.4.0)\n",
            "Collecting pyperclip>=1.6\n",
            "  Downloading pyperclip-1.8.2.tar.gz (20 kB)\n",
            "Requirement already satisfied: zipp>=0.5 in /usr/local/lib/python3.7/dist-packages (from importlib-metadata->sqlalchemy>=1.1.0->optuna) (3.7.0)\n",
            "Requirement already satisfied: MarkupSafe>=0.9.2 in /usr/local/lib/python3.7/dist-packages (from Mako->alembic->optuna) (2.0.1)\n",
            "Building wheels for collected packages: pyperclip\n",
            "  Building wheel for pyperclip (setup.py) ... \u001b[?25l\u001b[?25hdone\n",
            "  Created wheel for pyperclip: filename=pyperclip-1.8.2-py3-none-any.whl size=11137 sha256=a69d4bc6d1434feffb2bbf3157e9199e5d6380b593e2169572b08f807d020433\n",
            "  Stored in directory: /root/.cache/pip/wheels/9f/18/84/8f69f8b08169c7bae2dde6bd7daf0c19fca8c8e500ee620a28\n",
            "Successfully built pyperclip\n",
            "Installing collected packages: pyperclip, pbr, stevedore, Mako, cmd2, autopage, colorlog, cmaes, cliff, alembic, optuna\n",
            "Successfully installed Mako-1.1.6 alembic-1.7.6 autopage-0.5.0 cliff-3.10.0 cmaes-0.8.2 cmd2-2.3.3 colorlog-6.6.0 optuna-2.10.0 pbr-5.8.1 pyperclip-1.8.2 stevedore-3.5.0\n"
          ]
        }
      ]
    },
    {
      "cell_type": "code",
      "source": [
        "import torch\n",
        "from torch import nn\n",
        "from torch.utils.data import DataLoader\n",
        "from torchvision import datasets\n",
        "from torchvision.transforms import ToTensor, Lambda, Compose\n",
        "import matplotlib.pyplot as plt\n",
        "import glob\n",
        "import numpy as np\n",
        "import pandas as pd\n",
        "import optuna\n",
        "from torchvision import transforms\n",
        "from PIL import Image\n",
        "import xml.etree.ElementTree as ET "
      ],
      "metadata": {
        "id": "-mfiU3INzBCm"
      },
      "execution_count": 2,
      "outputs": []
    },
    {
      "cell_type": "code",
      "source": [
        "from google.colab import drive\n",
        "drive.mount('/content/drive')"
      ],
      "metadata": {
        "colab": {
          "base_uri": "https://localhost:8080/"
        },
        "id": "8AH2pNNYhutj",
        "outputId": "3772f9e4-9cd7-4b9f-c7b0-b623229ce029"
      },
      "execution_count": 3,
      "outputs": [
        {
          "output_type": "stream",
          "name": "stdout",
          "text": [
            "Mounted at /content/drive\n"
          ]
        }
      ]
    },
    {
      "cell_type": "code",
      "source": [
        "class Xml2List(object):\n",
        "    \n",
        "    def __init__(self, classes):\n",
        "        self.classes = classes\n",
        "        \n",
        "    def __call__(self, xml_path):\n",
        "        \n",
        "        ret = []\n",
        "        \n",
        "        xml = ET.parse(xml_path).getroot()\n",
        "        \n",
        "        for size in xml.iter(\"size\"):\n",
        "          \n",
        "            width = float(size.find(\"width\").text)\n",
        "            height = float(size.find(\"height\").text)\n",
        "                \n",
        "        for obj in xml.iter(\"object\"):\n",
        "            \n",
        "            difficult = int(obj.find(\"difficult\").text)\n",
        "            if difficult == 1:\n",
        "                continue\n",
        "                \n",
        "            bndbox = [width, height]\n",
        "            \n",
        "            name = obj.find(\"name\").text.lower().strip() \n",
        "            bbox = obj.find(\"bndbox\") \n",
        "            \n",
        "            pts = [\"xmin\", \"ymin\", \"xmax\", \"ymax\"]\n",
        "            \n",
        "            for pt in pts:\n",
        "                \n",
        "                cur_pixel =  float(bbox.find(pt).text)\n",
        "                    \n",
        "                bndbox.append(cur_pixel)\n",
        "                \n",
        "            label_idx = self.classes.index(name)\n",
        "            bndbox.append(label_idx)\n",
        "            \n",
        "            ret += [bndbox]\n",
        "            \n",
        "        return np.array(ret) # [width, height, xmin, ymin, xamx, ymax, label_idx]"
      ],
      "metadata": {
        "id": "UqO6miTDzz7S"
      },
      "execution_count": 4,
      "outputs": []
    },
    {
      "cell_type": "code",
      "source": [
        "class MyDataset(torch.utils.data.Dataset):\n",
        "    \n",
        "    def __init__(self, df, image_dir):\n",
        "        \n",
        "        super().__init__()\n",
        "        \n",
        "        self.image_ids = df[\"image_id\"].unique()\n",
        "        self.df = df\n",
        "        self.image_dir = image_dir\n",
        "        \n",
        "    def __getitem__(self, index):\n",
        " \n",
        "        transform = transforms.Compose([\n",
        "                                        transforms.ToTensor()\n",
        "        ])\n",
        " \n",
        "        # 入力画像の読み込み\n",
        "        image_id = self.image_ids[index]\n",
        "        image = Image.open(f\"{self.image_dir}/{image_id}.jpg\")\n",
        "        image = transform(image)\n",
        "        \n",
        "        # アノテーションデータの読み込み\n",
        "        records = self.df[self.df[\"image_id\"] == image_id]\n",
        "        boxes = torch.tensor(records[[\"xmin\", \"ymin\", \"xmax\", \"ymax\"]].values.astype(np.float32), dtype=torch.float32)\n",
        "        \n",
        "        area = (boxes[:, 3] - boxes[:, 1]) * (boxes[:, 2] - boxes[:, 0])\n",
        "        area = torch.as_tensor(area, dtype=torch.float32)\n",
        "        \n",
        "        labels = torch.tensor(records[\"class\"].values.astype(np.int64), dtype=torch.int64)\n",
        "        \n",
        "        iscrowd = torch.zeros((records.shape[0], ), dtype=torch.int64)\n",
        "        \n",
        "        target = {}\n",
        "        target[\"boxes\"] = boxes\n",
        "        target[\"labels\"]= labels\n",
        "        target[\"image_id\"] = torch.tensor([index])\n",
        "        target[\"area\"] = area\n",
        "        target[\"iscrowd\"] = iscrowd\n",
        "\n",
        "\n",
        "        return image, labels[0], image_id\n",
        "    \n",
        "    def __len__(self):\n",
        "        return self.image_ids.shape[0]"
      ],
      "metadata": {
        "id": "gW2rBMW51w4U"
      },
      "execution_count": 5,
      "outputs": []
    },
    {
      "cell_type": "code",
      "metadata": {
        "id": "rOwFfx0F1C1C"
      },
      "source": [
        "# modelを定義します\n",
        "class NeuralNetwork(nn.Module):\n",
        "    def __init__(self):\n",
        "        super(NeuralNetwork, self).__init__()\n",
        "        self.flatten = nn.Flatten()\n",
        "        self.linear_relu_stack = nn.Sequential(\n",
        "            nn.Linear(800*600*3, 512),\n",
        "            nn.ReLU(),\n",
        "            nn.Linear(512, 512),\n",
        "            nn.ReLU(),\n",
        "            nn.Linear(512, 5),\n",
        "            nn.ReLU()\n",
        "        )\n",
        "\n",
        "    def forward(self, x):\n",
        "        x = self.flatten(x)\n",
        "        logits = self.linear_relu_stack(x)\n",
        "        return logits"
      ],
      "execution_count": 6,
      "outputs": []
    },
    {
      "cell_type": "code",
      "source": [
        "def train(dataloader, model, loss_fn, optimizer):\n",
        "    size = len(dataloader.dataset)\n",
        "    for batch, (X, y, z) in enumerate(dataloader):\n",
        "        X, y = X.to(device), y.to(device)\n",
        "\n",
        "        # 損失誤差を計算\n",
        "        pred = model(X)\n",
        "        loss = loss_fn(pred, y)\n",
        "        \n",
        "        # バックプロパゲーション\n",
        "        optimizer.zero_grad()\n",
        "        loss.backward()\n",
        "        optimizer.step()\n",
        "\n",
        "        if batch % 5 == 0:\n",
        "            loss, current = loss.item(), batch * len(X)\n",
        "            print(f\"loss: {loss:>7f}  [{current:>5d}/{size:>5d}]\")\n",
        "\n",
        "def test(dataloader, model):\n",
        "    size = len(dataloader.dataset)\n",
        "    model.eval()\n",
        "    test_loss, correct = 0, 0\n",
        "    with torch.no_grad():\n",
        "        for X, y ,z in dataloader:\n",
        "            X, y = X.to(device), y.to(device)\n",
        "            pred = model(X)\n",
        "            test_loss += loss_fn(pred, y).item()\n",
        "            correct += (pred.argmax(1) == y).type(torch.float).sum().item()\n",
        "    test_loss /= size\n",
        "    correct /= size\n",
        "    print(f\"Test Error: \\n Accuracy: {(100*correct):>0.1f}%, Avg loss: {test_loss:>8f} \\n\")\n",
        "    return test_loss"
      ],
      "metadata": {
        "id": "o3CRugr-Srpg"
      },
      "execution_count": 7,
      "outputs": []
    },
    {
      "cell_type": "code",
      "source": [
        "def objective(trial):\n",
        "    #学習率\n",
        "    lr = trial.suggest_uniform('lr', 1e-4, 1e-1)\n",
        "\n",
        "    #エポック数\n",
        "    epochs = trial.suggest_discrete_uniform('epochs', 3, 5, 1)\n",
        "\n",
        "    optimizer = torch.optim.SGD(model.parameters(),lr)\n",
        "    \n",
        "    print('学習率',lr)\n",
        "    print('エポック数',epochs)\n",
        "\n",
        "    for step in range(int(epochs)):\n",
        "        print('step:',step,'epoch:',epochs)\n",
        "        train(train_dataloader, model, loss_fn, optimizer)\n",
        "        test_loss = test(test_dataloader, model)\n",
        "\n",
        "    return test_loss"
      ],
      "metadata": {
        "id": "msLCEFjHzR78"
      },
      "execution_count": 8,
      "outputs": []
    },
    {
      "cell_type": "code",
      "source": [
        "xml_paths = glob.glob(\"./drive/MyDrive/Pytorch/privateDataset/xml_resize/*.xml\")\n",
        "classes = [\"saito\", \"ohnaka\",\"doi\",'sugai','suzuki']\n",
        "    \n",
        "transform_anno = Xml2List(classes)\n",
        "\n",
        "df = pd.DataFrame(columns=[\"image_id\", \"width\", \"height\", \"xmin\", \"ymin\", \"xmax\", \"ymax\", \"class\"])"
      ],
      "metadata": {
        "id": "tcp6JAhRzVTR"
      },
      "execution_count": 9,
      "outputs": []
    },
    {
      "cell_type": "code",
      "source": [
        "for path in xml_paths:\n",
        "    image_id = path.split(\"/\")[-1].split(\".\")[0]\n",
        "    bboxs = transform_anno(path)\n",
        "    \n",
        "    for bbox in bboxs:\n",
        "        tmp = pd.Series(bbox, index=[\"width\", \"height\", \"xmin\", \"ymin\", \"xmax\", \"ymax\", \"class\"])\n",
        "        tmp[\"image_id\"] = image_id\n",
        "        df = df.append(tmp, ignore_index=True)\n",
        "\n",
        "df = df.sort_values(by=\"image_id\", ascending=True)\n",
        "\n",
        "df.head()"
      ],
      "metadata": {
        "colab": {
          "base_uri": "https://localhost:8080/",
          "height": 206
        },
        "id": "c1W8yoPn0ZRl",
        "outputId": "a272e3b1-08be-45fe-d4b9-e150d6c982aa"
      },
      "execution_count": 10,
      "outputs": [
        {
          "output_type": "execute_result",
          "data": {
            "text/html": [
              "\n",
              "  <div id=\"df-1583d4ed-9468-45db-9719-c1a8923eb1d5\">\n",
              "    <div class=\"colab-df-container\">\n",
              "      <div>\n",
              "<style scoped>\n",
              "    .dataframe tbody tr th:only-of-type {\n",
              "        vertical-align: middle;\n",
              "    }\n",
              "\n",
              "    .dataframe tbody tr th {\n",
              "        vertical-align: top;\n",
              "    }\n",
              "\n",
              "    .dataframe thead th {\n",
              "        text-align: right;\n",
              "    }\n",
              "</style>\n",
              "<table border=\"1\" class=\"dataframe\">\n",
              "  <thead>\n",
              "    <tr style=\"text-align: right;\">\n",
              "      <th></th>\n",
              "      <th>image_id</th>\n",
              "      <th>width</th>\n",
              "      <th>height</th>\n",
              "      <th>xmin</th>\n",
              "      <th>ymin</th>\n",
              "      <th>xmax</th>\n",
              "      <th>ymax</th>\n",
              "      <th>class</th>\n",
              "    </tr>\n",
              "  </thead>\n",
              "  <tbody>\n",
              "    <tr>\n",
              "      <th>8</th>\n",
              "      <td>1E5D4546-308B-4BC9-BDFE-954ADB3BD279</td>\n",
              "      <td>800.0</td>\n",
              "      <td>600.0</td>\n",
              "      <td>62.0</td>\n",
              "      <td>0.0</td>\n",
              "      <td>288.0</td>\n",
              "      <td>253.0</td>\n",
              "      <td>1.0</td>\n",
              "    </tr>\n",
              "    <tr>\n",
              "      <th>14</th>\n",
              "      <td>4808BBD0-26F8-4519-B2A0-DD26884984D2</td>\n",
              "      <td>800.0</td>\n",
              "      <td>600.0</td>\n",
              "      <td>453.0</td>\n",
              "      <td>85.0</td>\n",
              "      <td>640.0</td>\n",
              "      <td>343.0</td>\n",
              "      <td>3.0</td>\n",
              "    </tr>\n",
              "    <tr>\n",
              "      <th>13</th>\n",
              "      <td>4808BBD0-26F8-4519-B2A0-DD26884984D2</td>\n",
              "      <td>800.0</td>\n",
              "      <td>600.0</td>\n",
              "      <td>162.0</td>\n",
              "      <td>162.0</td>\n",
              "      <td>314.0</td>\n",
              "      <td>391.0</td>\n",
              "      <td>1.0</td>\n",
              "    </tr>\n",
              "    <tr>\n",
              "      <th>48</th>\n",
              "      <td>65299796_43d6f8c57280e7a0cd014e931b99ed86_2110...</td>\n",
              "      <td>800.0</td>\n",
              "      <td>600.0</td>\n",
              "      <td>295.0</td>\n",
              "      <td>141.0</td>\n",
              "      <td>488.0</td>\n",
              "      <td>368.0</td>\n",
              "      <td>0.0</td>\n",
              "    </tr>\n",
              "    <tr>\n",
              "      <th>49</th>\n",
              "      <td>65299796_c23f0ac9a76b18d1570dc47c995cd6ce_2110...</td>\n",
              "      <td>800.0</td>\n",
              "      <td>600.0</td>\n",
              "      <td>290.0</td>\n",
              "      <td>204.0</td>\n",
              "      <td>473.0</td>\n",
              "      <td>393.0</td>\n",
              "      <td>0.0</td>\n",
              "    </tr>\n",
              "  </tbody>\n",
              "</table>\n",
              "</div>\n",
              "      <button class=\"colab-df-convert\" onclick=\"convertToInteractive('df-1583d4ed-9468-45db-9719-c1a8923eb1d5')\"\n",
              "              title=\"Convert this dataframe to an interactive table.\"\n",
              "              style=\"display:none;\">\n",
              "        \n",
              "  <svg xmlns=\"http://www.w3.org/2000/svg\" height=\"24px\"viewBox=\"0 0 24 24\"\n",
              "       width=\"24px\">\n",
              "    <path d=\"M0 0h24v24H0V0z\" fill=\"none\"/>\n",
              "    <path d=\"M18.56 5.44l.94 2.06.94-2.06 2.06-.94-2.06-.94-.94-2.06-.94 2.06-2.06.94zm-11 1L8.5 8.5l.94-2.06 2.06-.94-2.06-.94L8.5 2.5l-.94 2.06-2.06.94zm10 10l.94 2.06.94-2.06 2.06-.94-2.06-.94-.94-2.06-.94 2.06-2.06.94z\"/><path d=\"M17.41 7.96l-1.37-1.37c-.4-.4-.92-.59-1.43-.59-.52 0-1.04.2-1.43.59L10.3 9.45l-7.72 7.72c-.78.78-.78 2.05 0 2.83L4 21.41c.39.39.9.59 1.41.59.51 0 1.02-.2 1.41-.59l7.78-7.78 2.81-2.81c.8-.78.8-2.07 0-2.86zM5.41 20L4 18.59l7.72-7.72 1.47 1.35L5.41 20z\"/>\n",
              "  </svg>\n",
              "      </button>\n",
              "      \n",
              "  <style>\n",
              "    .colab-df-container {\n",
              "      display:flex;\n",
              "      flex-wrap:wrap;\n",
              "      gap: 12px;\n",
              "    }\n",
              "\n",
              "    .colab-df-convert {\n",
              "      background-color: #E8F0FE;\n",
              "      border: none;\n",
              "      border-radius: 50%;\n",
              "      cursor: pointer;\n",
              "      display: none;\n",
              "      fill: #1967D2;\n",
              "      height: 32px;\n",
              "      padding: 0 0 0 0;\n",
              "      width: 32px;\n",
              "    }\n",
              "\n",
              "    .colab-df-convert:hover {\n",
              "      background-color: #E2EBFA;\n",
              "      box-shadow: 0px 1px 2px rgba(60, 64, 67, 0.3), 0px 1px 3px 1px rgba(60, 64, 67, 0.15);\n",
              "      fill: #174EA6;\n",
              "    }\n",
              "\n",
              "    [theme=dark] .colab-df-convert {\n",
              "      background-color: #3B4455;\n",
              "      fill: #D2E3FC;\n",
              "    }\n",
              "\n",
              "    [theme=dark] .colab-df-convert:hover {\n",
              "      background-color: #434B5C;\n",
              "      box-shadow: 0px 1px 3px 1px rgba(0, 0, 0, 0.15);\n",
              "      filter: drop-shadow(0px 1px 2px rgba(0, 0, 0, 0.3));\n",
              "      fill: #FFFFFF;\n",
              "    }\n",
              "  </style>\n",
              "\n",
              "      <script>\n",
              "        const buttonEl =\n",
              "          document.querySelector('#df-1583d4ed-9468-45db-9719-c1a8923eb1d5 button.colab-df-convert');\n",
              "        buttonEl.style.display =\n",
              "          google.colab.kernel.accessAllowed ? 'block' : 'none';\n",
              "\n",
              "        async function convertToInteractive(key) {\n",
              "          const element = document.querySelector('#df-1583d4ed-9468-45db-9719-c1a8923eb1d5');\n",
              "          const dataTable =\n",
              "            await google.colab.kernel.invokeFunction('convertToInteractive',\n",
              "                                                     [key], {});\n",
              "          if (!dataTable) return;\n",
              "\n",
              "          const docLinkHtml = 'Like what you see? Visit the ' +\n",
              "            '<a target=\"_blank\" href=https://colab.research.google.com/notebooks/data_table.ipynb>data table notebook</a>'\n",
              "            + ' to learn more about interactive tables.';\n",
              "          element.innerHTML = '';\n",
              "          dataTable['output_type'] = 'display_data';\n",
              "          await google.colab.output.renderOutput(dataTable, element);\n",
              "          const docLink = document.createElement('div');\n",
              "          docLink.innerHTML = docLinkHtml;\n",
              "          element.appendChild(docLink);\n",
              "        }\n",
              "      </script>\n",
              "    </div>\n",
              "  </div>\n",
              "  "
            ],
            "text/plain": [
              "                                             image_id  width  ...   ymax  class\n",
              "8                1E5D4546-308B-4BC9-BDFE-954ADB3BD279  800.0  ...  253.0    1.0\n",
              "14               4808BBD0-26F8-4519-B2A0-DD26884984D2  800.0  ...  343.0    3.0\n",
              "13               4808BBD0-26F8-4519-B2A0-DD26884984D2  800.0  ...  391.0    1.0\n",
              "48  65299796_43d6f8c57280e7a0cd014e931b99ed86_2110...  800.0  ...  368.0    0.0\n",
              "49  65299796_c23f0ac9a76b18d1570dc47c995cd6ce_2110...  800.0  ...  393.0    0.0\n",
              "\n",
              "[5 rows x 8 columns]"
            ]
          },
          "metadata": {},
          "execution_count": 10
        }
      ]
    },
    {
      "cell_type": "code",
      "source": [
        "image_dir = \"./drive/MyDrive/Pytorch/privateDataset/img_resize\"\n",
        "dataset = MyDataset(df, image_dir)"
      ],
      "metadata": {
        "id": "xBOKEXU_1j_G"
      },
      "execution_count": 11,
      "outputs": []
    },
    {
      "cell_type": "code",
      "source": [
        "batch_size = 1\n",
        "train_dataloader = DataLoader(dataset, batch_size=batch_size)\n",
        "test_dataloader = DataLoader(dataset, batch_size=batch_size)"
      ],
      "metadata": {
        "id": "LtpbCCs7vtet"
      },
      "execution_count": 12,
      "outputs": []
    },
    {
      "cell_type": "code",
      "metadata": {
        "colab": {
          "base_uri": "https://localhost:8080/"
        },
        "id": "Imq5uYXu0924",
        "outputId": "2d8dc54a-9302-4559-8a5b-4118455bbc64"
      },
      "source": [
        "# 訓練に際して、可能であればGPU（cuda）を設定します。GPUが搭載されていない場合はCPUを使用します\n",
        "device = \"cuda\" if torch.cuda.is_available() else \"cpu\"\n",
        "print(\"Using {} device\".format(device))"
      ],
      "execution_count": 13,
      "outputs": [
        {
          "output_type": "stream",
          "name": "stdout",
          "text": [
            "Using cuda device\n"
          ]
        }
      ]
    },
    {
      "cell_type": "code",
      "source": [
        "model = NeuralNetwork().to(device)\n",
        "print(model)"
      ],
      "metadata": {
        "colab": {
          "base_uri": "https://localhost:8080/"
        },
        "id": "ZJjP8jOg5lSn",
        "outputId": "f9d29043-95cc-49b4-8863-639c0d6489ce"
      },
      "execution_count": 14,
      "outputs": [
        {
          "output_type": "stream",
          "name": "stdout",
          "text": [
            "NeuralNetwork(\n",
            "  (flatten): Flatten(start_dim=1, end_dim=-1)\n",
            "  (linear_relu_stack): Sequential(\n",
            "    (0): Linear(in_features=1440000, out_features=512, bias=True)\n",
            "    (1): ReLU()\n",
            "    (2): Linear(in_features=512, out_features=512, bias=True)\n",
            "    (3): ReLU()\n",
            "    (4): Linear(in_features=512, out_features=5, bias=True)\n",
            "    (5): ReLU()\n",
            "  )\n",
            ")\n"
          ]
        }
      ]
    },
    {
      "cell_type": "code",
      "metadata": {
        "id": "mx6d1iAA3MY7",
        "colab": {
          "base_uri": "https://localhost:8080/"
        },
        "outputId": "54a61638-a220-4478-8a05-2601f45e75e7"
      },
      "source": [
        "loss_fn = nn.CrossEntropyLoss()\n",
        "\n",
        "TRIAL_SIZE = 3\n",
        "study = optuna.create_study()\n",
        "study.optimize(objective, n_trials=TRIAL_SIZE)\n",
        "\n",
        "#最適化したハイパーパラメータの結果\n",
        "study.best_params"
      ],
      "execution_count": 15,
      "outputs": [
        {
          "output_type": "stream",
          "name": "stderr",
          "text": [
            "\u001b[32m[I 2022-02-09 23:31:40,400]\u001b[0m A new study created in memory with name: no-name-cbca8eae-f274-424d-b821-27628524098b\u001b[0m\n"
          ]
        },
        {
          "output_type": "stream",
          "name": "stdout",
          "text": [
            "学習率 0.08513079108678435\n",
            "エポック数 3.0\n",
            "step: 0 epoch: 3.0\n",
            "loss: 1.638454  [    0/   35]\n",
            "loss: 0.000000  [    5/   35]\n",
            "loss: 1.609438  [   10/   35]\n",
            "loss: 1.609438  [   15/   35]\n",
            "loss: 1.609438  [   20/   35]\n",
            "loss: 1.609438  [   25/   35]\n",
            "loss: 1.609438  [   30/   35]\n",
            "Test Error: \n",
            " Accuracy: 40.0%, Avg loss: 1.609438 \n",
            "\n",
            "step: 1 epoch: 3.0\n",
            "loss: 1.609438  [    0/   35]\n",
            "loss: 1.609438  [    5/   35]\n",
            "loss: 1.609438  [   10/   35]\n",
            "loss: 1.609438  [   15/   35]\n",
            "loss: 1.609438  [   20/   35]\n",
            "loss: 1.609438  [   25/   35]\n",
            "loss: 1.609438  [   30/   35]\n",
            "Test Error: \n",
            " Accuracy: 40.0%, Avg loss: 1.609438 \n",
            "\n",
            "step: 2 epoch: 3.0\n",
            "loss: 1.609438  [    0/   35]\n",
            "loss: 1.609438  [    5/   35]\n",
            "loss: 1.609438  [   10/   35]\n",
            "loss: 1.609438  [   15/   35]\n",
            "loss: 1.609438  [   20/   35]\n",
            "loss: 1.609438  [   25/   35]\n",
            "loss: 1.609438  [   30/   35]\n"
          ]
        },
        {
          "output_type": "stream",
          "name": "stderr",
          "text": [
            "\u001b[32m[I 2022-02-09 23:32:13,804]\u001b[0m Trial 0 finished with value: 1.6094379425048828 and parameters: {'lr': 0.08513079108678435, 'epochs': 3.0}. Best is trial 0 with value: 1.6094379425048828.\u001b[0m\n"
          ]
        },
        {
          "output_type": "stream",
          "name": "stdout",
          "text": [
            "Test Error: \n",
            " Accuracy: 40.0%, Avg loss: 1.609438 \n",
            "\n",
            "学習率 0.07921208780592964\n",
            "エポック数 5.0\n",
            "step: 0 epoch: 5.0\n",
            "loss: 1.609438  [    0/   35]\n",
            "loss: 1.609438  [    5/   35]\n",
            "loss: 1.609438  [   10/   35]\n",
            "loss: 1.609438  [   15/   35]\n",
            "loss: 1.609438  [   20/   35]\n",
            "loss: 1.609438  [   25/   35]\n",
            "loss: 1.609438  [   30/   35]\n",
            "Test Error: \n",
            " Accuracy: 40.0%, Avg loss: 1.609438 \n",
            "\n",
            "step: 1 epoch: 5.0\n",
            "loss: 1.609438  [    0/   35]\n",
            "loss: 1.609438  [    5/   35]\n",
            "loss: 1.609438  [   10/   35]\n",
            "loss: 1.609438  [   15/   35]\n",
            "loss: 1.609438  [   20/   35]\n",
            "loss: 1.609438  [   25/   35]\n",
            "loss: 1.609438  [   30/   35]\n",
            "Test Error: \n",
            " Accuracy: 40.0%, Avg loss: 1.609438 \n",
            "\n",
            "step: 2 epoch: 5.0\n",
            "loss: 1.609438  [    0/   35]\n",
            "loss: 1.609438  [    5/   35]\n",
            "loss: 1.609438  [   10/   35]\n",
            "loss: 1.609438  [   15/   35]\n",
            "loss: 1.609438  [   20/   35]\n",
            "loss: 1.609438  [   25/   35]\n",
            "loss: 1.609438  [   30/   35]\n",
            "Test Error: \n",
            " Accuracy: 40.0%, Avg loss: 1.609438 \n",
            "\n",
            "step: 3 epoch: 5.0\n",
            "loss: 1.609438  [    0/   35]\n",
            "loss: 1.609438  [    5/   35]\n",
            "loss: 1.609438  [   10/   35]\n",
            "loss: 1.609438  [   15/   35]\n",
            "loss: 1.609438  [   20/   35]\n",
            "loss: 1.609438  [   25/   35]\n",
            "loss: 1.609438  [   30/   35]\n",
            "Test Error: \n",
            " Accuracy: 40.0%, Avg loss: 1.609438 \n",
            "\n",
            "step: 4 epoch: 5.0\n",
            "loss: 1.609438  [    0/   35]\n",
            "loss: 1.609438  [    5/   35]\n",
            "loss: 1.609438  [   10/   35]\n",
            "loss: 1.609438  [   15/   35]\n",
            "loss: 1.609438  [   20/   35]\n",
            "loss: 1.609438  [   25/   35]\n",
            "loss: 1.609438  [   30/   35]\n"
          ]
        },
        {
          "output_type": "stream",
          "name": "stderr",
          "text": [
            "\u001b[32m[I 2022-02-09 23:32:57,880]\u001b[0m Trial 1 finished with value: 1.6094379425048828 and parameters: {'lr': 0.07921208780592964, 'epochs': 5.0}. Best is trial 0 with value: 1.6094379425048828.\u001b[0m\n"
          ]
        },
        {
          "output_type": "stream",
          "name": "stdout",
          "text": [
            "Test Error: \n",
            " Accuracy: 40.0%, Avg loss: 1.609438 \n",
            "\n",
            "学習率 0.06831306232688568\n",
            "エポック数 4.0\n",
            "step: 0 epoch: 4.0\n",
            "loss: 1.609438  [    0/   35]\n",
            "loss: 1.609438  [    5/   35]\n",
            "loss: 1.609438  [   10/   35]\n",
            "loss: 1.609438  [   15/   35]\n",
            "loss: 1.609438  [   20/   35]\n",
            "loss: 1.609438  [   25/   35]\n",
            "loss: 1.609438  [   30/   35]\n",
            "Test Error: \n",
            " Accuracy: 40.0%, Avg loss: 1.609438 \n",
            "\n",
            "step: 1 epoch: 4.0\n",
            "loss: 1.609438  [    0/   35]\n",
            "loss: 1.609438  [    5/   35]\n",
            "loss: 1.609438  [   10/   35]\n",
            "loss: 1.609438  [   15/   35]\n",
            "loss: 1.609438  [   20/   35]\n",
            "loss: 1.609438  [   25/   35]\n",
            "loss: 1.609438  [   30/   35]\n",
            "Test Error: \n",
            " Accuracy: 40.0%, Avg loss: 1.609438 \n",
            "\n",
            "step: 2 epoch: 4.0\n",
            "loss: 1.609438  [    0/   35]\n",
            "loss: 1.609438  [    5/   35]\n",
            "loss: 1.609438  [   10/   35]\n",
            "loss: 1.609438  [   15/   35]\n",
            "loss: 1.609438  [   20/   35]\n",
            "loss: 1.609438  [   25/   35]\n",
            "loss: 1.609438  [   30/   35]\n",
            "Test Error: \n",
            " Accuracy: 40.0%, Avg loss: 1.609438 \n",
            "\n",
            "step: 3 epoch: 4.0\n",
            "loss: 1.609438  [    0/   35]\n",
            "loss: 1.609438  [    5/   35]\n",
            "loss: 1.609438  [   10/   35]\n",
            "loss: 1.609438  [   15/   35]\n",
            "loss: 1.609438  [   20/   35]\n",
            "loss: 1.609438  [   25/   35]\n",
            "loss: 1.609438  [   30/   35]\n"
          ]
        },
        {
          "output_type": "stream",
          "name": "stderr",
          "text": [
            "\u001b[32m[I 2022-02-09 23:33:33,080]\u001b[0m Trial 2 finished with value: 1.6094379425048828 and parameters: {'lr': 0.06831306232688568, 'epochs': 4.0}. Best is trial 0 with value: 1.6094379425048828.\u001b[0m\n"
          ]
        },
        {
          "output_type": "stream",
          "name": "stdout",
          "text": [
            "Test Error: \n",
            " Accuracy: 40.0%, Avg loss: 1.609438 \n",
            "\n"
          ]
        },
        {
          "output_type": "execute_result",
          "data": {
            "text/plain": [
              "{'epochs': 3.0, 'lr': 0.08513079108678435}"
            ]
          },
          "metadata": {},
          "execution_count": 15
        }
      ]
    },
    {
      "cell_type": "code",
      "metadata": {
        "colab": {
          "base_uri": "https://localhost:8080/"
        },
        "id": "2VaP5bppFaFo",
        "outputId": "96cc9f95-9e04-4caa-be55-e7d52aa76c92"
      },
      "source": [
        "#最適化後の目的関数の値\n",
        "study.best_value"
      ],
      "execution_count": 16,
      "outputs": [
        {
          "output_type": "execute_result",
          "data": {
            "text/plain": [
              "1.6094379425048828"
            ]
          },
          "metadata": {},
          "execution_count": 16
        }
      ]
    },
    {
      "cell_type": "code",
      "metadata": {
        "colab": {
          "base_uri": "https://localhost:8080/"
        },
        "id": "4LJqeLI_FabQ",
        "outputId": "845ec11c-1d92-4d99-bbc8-f936a82cd8d9"
      },
      "source": [
        "#全試行過程\n",
        "study.trials"
      ],
      "execution_count": 17,
      "outputs": [
        {
          "output_type": "execute_result",
          "data": {
            "text/plain": [
              "[FrozenTrial(number=0, values=[1.6094379425048828], datetime_start=datetime.datetime(2022, 2, 9, 23, 31, 40, 407213), datetime_complete=datetime.datetime(2022, 2, 9, 23, 32, 13, 804468), params={'lr': 0.08513079108678435, 'epochs': 3.0}, distributions={'lr': UniformDistribution(high=0.1, low=0.0001), 'epochs': DiscreteUniformDistribution(high=5.0, low=3.0, q=1.0)}, user_attrs={}, system_attrs={}, intermediate_values={}, trial_id=0, state=TrialState.COMPLETE, value=None),\n",
              " FrozenTrial(number=1, values=[1.6094379425048828], datetime_start=datetime.datetime(2022, 2, 9, 23, 32, 13, 809611), datetime_complete=datetime.datetime(2022, 2, 9, 23, 32, 57, 880656), params={'lr': 0.07921208780592964, 'epochs': 5.0}, distributions={'lr': UniformDistribution(high=0.1, low=0.0001), 'epochs': DiscreteUniformDistribution(high=5.0, low=3.0, q=1.0)}, user_attrs={}, system_attrs={}, intermediate_values={}, trial_id=1, state=TrialState.COMPLETE, value=None),\n",
              " FrozenTrial(number=2, values=[1.6094379425048828], datetime_start=datetime.datetime(2022, 2, 9, 23, 32, 57, 882461), datetime_complete=datetime.datetime(2022, 2, 9, 23, 33, 33, 80575), params={'lr': 0.06831306232688568, 'epochs': 4.0}, distributions={'lr': UniformDistribution(high=0.1, low=0.0001), 'epochs': DiscreteUniformDistribution(high=5.0, low=3.0, q=1.0)}, user_attrs={}, system_attrs={}, intermediate_values={}, trial_id=2, state=TrialState.COMPLETE, value=None)]"
            ]
          },
          "metadata": {},
          "execution_count": 17
        }
      ]
    },
    {
      "cell_type": "code",
      "metadata": {
        "id": "uRZpVLVETWST"
      },
      "source": [
        ""
      ],
      "execution_count": null,
      "outputs": []
    }
  ]
}